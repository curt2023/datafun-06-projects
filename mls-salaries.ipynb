{
 "cells": [
  {
   "cell_type": "markdown",
   "metadata": {},
   "source": [
    "<h1 style=\"color:green; text-align:center\"> Notebook: MLS Salaries\n",
    "<h5 style=\"color:green; text-align:center; font-family: forte\"> Name: Curtis Rogers </h5>\n",
    "<h5 style=\"color:green; text-align:center; font-family:forte\"> Date: 9/27/2023 </h5>"
   ]
  },
  {
   "cell_type": "markdown",
   "metadata": {},
   "source": [
    "<h5 style=\"color:blue; text-align:left; font-family:forte\"> Section 1: Load csv </h5>"
   ]
  },
  {
   "cell_type": "code",
   "execution_count": 148,
   "metadata": {},
   "outputs": [],
   "source": [
    "import pandas as pd\n",
    "\n",
    "\n",
    "df = pd.read_csv(\"mls-salaries-2017.csv\")\n"
   ]
  },
  {
   "cell_type": "markdown",
   "metadata": {},
   "source": [
    "<h5 style=\"color:blue; text-align:left; font-family:forte\"> Section 2: View - Display the first and last 5 rows </h5>\n",
    "\n"
   ]
  },
  {
   "cell_type": "code",
   "execution_count": 149,
   "metadata": {},
   "outputs": [
    {
     "data": {
      "text/plain": [
       "(  club last_name first_name position  base_salary  guaranteed_compensation\n",
       " 0  ATL   Almiron     Miguel        M    1912500.0               2297000.00\n",
       " 1  ATL   Ambrose      Mikey        D      65625.0                 65625.00\n",
       " 2  ATL      Asad      Yamil        M     150000.0                150000.00\n",
       " 3  ATL     Bloom       Mark        D      99225.0                106573.89\n",
       " 4  ATL  Carleton     Andrew        F      65000.0                 77400.00,\n",
       "     club last_name    first_name position  base_salary  \\\n",
       " 611  VAN  Tornaghi         Paolo       GK      80000.0   \n",
       " 612  VAN    Waston       Kendall        D     350000.0   \n",
       " 613  VAN  Williams       Sheanon        D     175000.0   \n",
       " 614  NaN   Babouli            Mo        F      54075.0   \n",
       " 615  NaN    Ramajo  David Mateos        D     420000.0   \n",
       " \n",
       "      guaranteed_compensation  \n",
       " 611                 80000.00  \n",
       " 612                368125.00  \n",
       " 613                184000.00  \n",
       " 614                 54075.00  \n",
       " 615                453333.33  )"
      ]
     },
     "execution_count": 149,
     "metadata": {},
     "output_type": "execute_result"
    }
   ],
   "source": [
    "df.head(5), df.tail(5)"
   ]
  },
  {
   "cell_type": "markdown",
   "metadata": {},
   "source": [
    "<h5 style=\"color:blue; text-align:left; font-family:forte\"> Section 3: Describe </h5>"
   ]
  },
  {
   "cell_type": "code",
   "execution_count": 150,
   "metadata": {},
   "outputs": [
    {
     "data": {
      "text/html": [
       "<div>\n",
       "<style scoped>\n",
       "    .dataframe tbody tr th:only-of-type {\n",
       "        vertical-align: middle;\n",
       "    }\n",
       "\n",
       "    .dataframe tbody tr th {\n",
       "        vertical-align: top;\n",
       "    }\n",
       "\n",
       "    .dataframe thead th {\n",
       "        text-align: right;\n",
       "    }\n",
       "</style>\n",
       "<table border=\"1\" class=\"dataframe\">\n",
       "  <thead>\n",
       "    <tr style=\"text-align: right;\">\n",
       "      <th></th>\n",
       "      <th>base_salary</th>\n",
       "      <th>guaranteed_compensation</th>\n",
       "    </tr>\n",
       "  </thead>\n",
       "  <tbody>\n",
       "    <tr>\n",
       "      <th>count</th>\n",
       "      <td>6.160000e+02</td>\n",
       "      <td>6.160000e+02</td>\n",
       "    </tr>\n",
       "    <tr>\n",
       "      <th>mean</th>\n",
       "      <td>2.969777e+05</td>\n",
       "      <td>3.261392e+05</td>\n",
       "    </tr>\n",
       "    <tr>\n",
       "      <th>std</th>\n",
       "      <td>6.715792e+05</td>\n",
       "      <td>7.480007e+05</td>\n",
       "    </tr>\n",
       "    <tr>\n",
       "      <th>min</th>\n",
       "      <td>5.299992e+04</td>\n",
       "      <td>5.299992e+04</td>\n",
       "    </tr>\n",
       "    <tr>\n",
       "      <th>25%</th>\n",
       "      <td>6.563130e+04</td>\n",
       "      <td>6.990325e+04</td>\n",
       "    </tr>\n",
       "    <tr>\n",
       "      <th>50%</th>\n",
       "      <td>1.250000e+05</td>\n",
       "      <td>1.350020e+05</td>\n",
       "    </tr>\n",
       "    <tr>\n",
       "      <th>75%</th>\n",
       "      <td>2.553750e+05</td>\n",
       "      <td>2.809390e+05</td>\n",
       "    </tr>\n",
       "    <tr>\n",
       "      <th>max</th>\n",
       "      <td>6.660000e+06</td>\n",
       "      <td>7.167500e+06</td>\n",
       "    </tr>\n",
       "  </tbody>\n",
       "</table>\n",
       "</div>"
      ],
      "text/plain": [
       "        base_salary  guaranteed_compensation\n",
       "count  6.160000e+02             6.160000e+02\n",
       "mean   2.969777e+05             3.261392e+05\n",
       "std    6.715792e+05             7.480007e+05\n",
       "min    5.299992e+04             5.299992e+04\n",
       "25%    6.563130e+04             6.990325e+04\n",
       "50%    1.250000e+05             1.350020e+05\n",
       "75%    2.553750e+05             2.809390e+05\n",
       "max    6.660000e+06             7.167500e+06"
      ]
     },
     "execution_count": 150,
     "metadata": {},
     "output_type": "execute_result"
    }
   ],
   "source": [
    "df.describe()"
   ]
  },
  {
   "cell_type": "markdown",
   "metadata": {},
   "source": [
    "<h5 style=\"color:blue; text-align:left; font-family:forte\"> Section 4: Series</h5>"
   ]
  },
  {
   "cell_type": "markdown",
   "metadata": {},
   "source": [
    "<h5 style=\"color:red; text-align:left; font-family:forte\">&nbsp;&nbsp;&nbsp;&nbsp;&nbsp;&nbsp; Club Series</h5>"
   ]
  },
  {
   "cell_type": "code",
   "execution_count": 151,
   "metadata": {},
   "outputs": [
    {
     "data": {
      "text/plain": [
       "count     614\n",
       "unique     23\n",
       "top       VAN\n",
       "freq       32\n",
       "Name: club, dtype: object"
      ]
     },
     "execution_count": 151,
     "metadata": {},
     "output_type": "execute_result"
    }
   ],
   "source": [
    "(df.club).describe()"
   ]
  },
  {
   "cell_type": "markdown",
   "metadata": {},
   "source": [
    "<h5 style=\"color:red; text-align:left; font-family:forte\">&nbsp;&nbsp;&nbsp;&nbsp;&nbsp;&nbsp; Last Name Series</h5>"
   ]
  },
  {
   "cell_type": "code",
   "execution_count": 152,
   "metadata": {},
   "outputs": [
    {
     "data": {
      "text/plain": [
       "count       616\n",
       "unique      569\n",
       "top       Jones\n",
       "freq          5\n",
       "Name: last_name, dtype: object"
      ]
     },
     "execution_count": 152,
     "metadata": {},
     "output_type": "execute_result"
    }
   ],
   "source": [
    "(df.last_name).describe()"
   ]
  },
  {
   "cell_type": "markdown",
   "metadata": {},
   "source": [
    "<h5 style=\"color:red; text-align:left; font-family:forte\">&nbsp;&nbsp;&nbsp;&nbsp;&nbsp;&nbsp; First Name Series</h5>"
   ]
  },
  {
   "cell_type": "code",
   "execution_count": 153,
   "metadata": {},
   "outputs": [
    {
     "data": {
      "text/plain": [
       "count       612\n",
       "unique      393\n",
       "top       Chris\n",
       "freq         13\n",
       "Name: first_name, dtype: object"
      ]
     },
     "execution_count": 153,
     "metadata": {},
     "output_type": "execute_result"
    }
   ],
   "source": [
    "(df.first_name).describe()"
   ]
  },
  {
   "cell_type": "markdown",
   "metadata": {},
   "source": [
    "<h5 style=\"color:red; text-align:left; font-family:forte\">&nbsp;&nbsp;&nbsp;&nbsp;&nbsp;&nbsp; Position Series</h5>"
   ]
  },
  {
   "cell_type": "code",
   "execution_count": 154,
   "metadata": {},
   "outputs": [
    {
     "data": {
      "text/plain": [
       "count     616\n",
       "unique     10\n",
       "top         M\n",
       "freq      212\n",
       "Name: position, dtype: object"
      ]
     },
     "execution_count": 154,
     "metadata": {},
     "output_type": "execute_result"
    }
   ],
   "source": [
    "(df.position).describe()"
   ]
  },
  {
   "cell_type": "markdown",
   "metadata": {},
   "source": [
    "<h5 style=\"color:blue; text-align:left; font-family:forte\"> Section 5: Unique</h5>"
   ]
  },
  {
   "cell_type": "markdown",
   "metadata": {},
   "source": [
    "<h5 style=\"color:red; text-align:left; font-family:forte\">&nbsp;&nbsp;&nbsp;&nbsp;&nbsp;&nbsp; Club Series</h5>"
   ]
  },
  {
   "cell_type": "code",
   "execution_count": 155,
   "metadata": {},
   "outputs": [
    {
     "data": {
      "text/plain": [
       "array(['ATL', 'CHI', 'CLB', 'COL', 'DAL', 'DC', 'HOU', 'KC', 'LA', 'LAFC',\n",
       "       'MNUFC', 'MTL', 'NE', 'NYCFC', 'NYRB', 'ORL', 'PHI', 'POR', 'RSL',\n",
       "       'SEA', 'SJ', 'TOR', 'VAN', nan], dtype=object)"
      ]
     },
     "execution_count": 155,
     "metadata": {},
     "output_type": "execute_result"
    }
   ],
   "source": [
    "(df.club).unique()"
   ]
  },
  {
   "cell_type": "markdown",
   "metadata": {},
   "source": [
    "<h5 style=\"color:red; text-align:left; font-family:forte\">&nbsp;&nbsp;&nbsp;&nbsp;&nbsp;&nbsp; Last Name Series</h5>"
   ]
  },
  {
   "cell_type": "code",
   "execution_count": 156,
   "metadata": {},
   "outputs": [
    {
     "data": {
      "text/plain": [
       "array(['Almiron', 'Ambrose', 'Asad', 'Bloom', 'Carleton', 'Carmona',\n",
       "       'Garza', 'Gonzalez Pirez', 'Goslin', 'Gressel', 'Heath', 'Jones',\n",
       "       'Kann', 'Kratz', 'Larentowicz', 'Loyd', 'Martinez', 'McCann',\n",
       "       'Mears', 'Oblitey Otoo', 'Parkhurst', 'Peterson', 'Reynish',\n",
       "       'Robinson', 'Rochez', 'Tambakis', 'Vazquez', 'Villalba', 'Walkes',\n",
       "       'Wheeler-Omiunu', 'Williams', 'Accam', 'Alvarez', 'Arshakyan',\n",
       "       'Bronico', 'Calistri', 'Campbell', 'Cleveland', 'Conner',\n",
       "       'De Leeuw', 'Dekovic', 'Doody', 'Fernandez', 'Goossens',\n",
       "       'Harrington', 'Johnson', 'Juninho', 'Kappelhof', 'Lampson',\n",
       "       'McCarty', 'Meira', 'Mihailovic', 'Nikolic', 'Polster',\n",
       "       'Rodrigo Bava', 'Schweinsteiger', 'Solignac', 'Vincent', 'Abu',\n",
       "       'Abubakar', 'Afful', 'Crognale', 'De Lima Junior', 'Duka',\n",
       "       'Finlay', 'Francis', 'Hansen', 'Higuain', 'Hollingsworth', 'Jahn',\n",
       "       'Jimenez', 'Kamara', 'Ketterer', 'Maloney', 'Manneh', 'Mensah',\n",
       "       'Meram', 'Naess', 'Obinwa', 'Raitala', 'Saravia', 'Sauro',\n",
       "       'Steffen', 'Stuver', 'Swanson', 'Trapp', 'Adjei-Boateng', 'Azira',\n",
       "       'Badji', 'Berner', 'Burling', 'Calvert', 'Castillo', 'Da Fonte',\n",
       "       'Doyle', 'Ford', 'Gashi', 'Gatt', 'Gordon', 'Hairston', 'Hamilton',\n",
       "       'Howard', 'MacMath', 'Miller', 'Perez', 'Powers', 'Ramirez',\n",
       "       'Saeid', 'Serna', 'Sjoberg', 'Watts', 'Acosta', 'Akindele',\n",
       "       'Barrios', 'Cannon', 'Cermeno', 'Chala', 'Colman', 'Craft', 'Diaz',\n",
       "       'Ferreira', 'Figueroa', 'Gonzalez', 'Grana', 'Gruezo', 'Guillen',\n",
       "       'Harris', 'Hayes', 'Hedges', 'Hollingshead', 'Hume', 'Lamah',\n",
       "       'Morales', 'Pomykal', 'Reid', 'Reynolds', 'Seitz', 'Ulloa',\n",
       "       'Urruti', 'Zimmerman', 'Birnbaum', 'Boswell', 'Buescher', 'DeLeon',\n",
       "       'Durkin', 'Franklin', 'Hamid', 'Harkes', 'Jeffrey', 'Kemp',\n",
       "       'Klenofsky', 'Le Toux', 'Mullins', 'Neagle', 'Nyarko',\n",
       "       'Odoi-Atsem', 'Opare', 'Ortiz', 'Rolfe', 'Sam', 'Sarvas', 'Tissot',\n",
       "       'Worra', 'Alexander', 'Anibaba', 'Beasley', 'Brown', 'Cabezas',\n",
       "       'Clark', 'Da Silva', 'DeLaGarza', 'Deric', 'Elis', 'Escalante',\n",
       "       'Garcia', 'Holland', 'Hunter', 'Iniguez', 'Lucatero', 'Machado',\n",
       "       'Malki', 'Manotas', 'Monteiro de Lima', 'Quioto', 'Remick',\n",
       "       'Rodriguez', 'Sanchez', 'Torres', 'Wenger', 'Willis',\n",
       "       'Abdul-Salaam', 'Besler', 'Blessing', 'Dwyer', 'Dykstra', 'Ellis',\n",
       "       'Espinoza', 'Feilhaber', 'Fernandes', 'Iwasa', 'Juliao',\n",
       "       'Medranda', 'Melia', 'Mustivar', 'Opara', 'Palmer-Brown', 'Pasher',\n",
       "       'Porter', 'Rubio Kostner', 'Saad', 'Salloi', 'Sinovic', 'Storm',\n",
       "       'Zendejas', 'Zusi', 'Alessandrini', 'Arellano', 'Boateng', 'Cole',\n",
       "       'Diallo', 'Diop', 'Dos Santos', 'Husidic', 'Jamieson', 'Kempin',\n",
       "       'Lassiter', 'Lletget', 'McBean', 'McInerney', 'Mendiola', 'Pedro',\n",
       "       'Rogers', 'Romney', 'Rowe', 'Smith', 'Steres', 'Van Damme',\n",
       "       'Villarreal', 'Zardes', 'Etim', 'Alvbage', 'Anor', 'Burch',\n",
       "       'Calvo', 'Cronin', 'Danladi', 'Davis', 'De Villardi', 'Demidov',\n",
       "       'Greenspan', 'Heavner', 'Ibarra', 'Ibson', 'Jome', 'Kadrii',\n",
       "       'Kallman', 'Martin', 'McLain', 'Molino', 'Schuller',\n",
       "       'Shuttleworth', 'Taylor', 'Thiesson', 'Venegas', 'Warner',\n",
       "       'Arregui', 'Beland Goyette', 'Bernardello', 'Bernier', 'Bitolo',\n",
       "       'Bush', 'Cabrera', 'Camara', 'Choiniere', 'Ciman', 'Crepeau',\n",
       "       'Depuy', 'Donadel', 'Duvall', 'Fisher', 'Jackson-Hamel',\n",
       "       'Kronberg', 'Lefevre', 'Lovitz', 'Mallace', 'Mancosu', 'Oduro',\n",
       "       'Piatti', 'Romero', 'Salazar', 'Shome', 'Tabla', 'Agudelo',\n",
       "       'Angoua', 'Bunbury', 'Caldwell', 'Cropper', 'Fagundez', 'Farrell',\n",
       "       'Herivaux', 'Hollinger-Janzen', 'Knighton', 'Kobayashi', 'Kouassi',\n",
       "       'Mlinar Delamea', 'Nguyen', 'Tierney', 'Turner', 'Watson',\n",
       "       'Woodberry', 'Wright', 'Allen', 'Awuah', 'Brilliant', 'Callens',\n",
       "       'Camargo', 'Chanot', 'Diskerud', 'Gomez', 'Harrison', 'Herrera',\n",
       "       'Johansen', 'Lewis', 'Lopez', 'Matarrita', 'McNamara', 'Mena',\n",
       "       'Moralez', 'Okoli', 'Pirlo', 'Rawls', 'Ring', 'Shelton',\n",
       "       'Stertzer', 'Sweat', 'Villa', 'Wallace', 'White', 'Abang', 'Adams',\n",
       "       'Baah', 'Basuljevic', 'Bilyeu', 'Collin', 'Etienne', 'Grella',\n",
       "       'Gulbrandsen', 'Kljestan', 'Lade', 'Lawrence', 'Long', 'Martins',\n",
       "       'Meara', 'Metzger', 'Murillo', 'Muyl', \"N'dam\", 'Perrinelle',\n",
       "       'Robles', 'Royer', 'Veron', 'Wright-Phillips', 'Zizzo', 'Aja',\n",
       "       'Alston', 'Barnes', 'Barry', 'Bendik', 'Carrasco', 'Donovan',\n",
       "       'Edwards', 'Gil', 'Giro', 'Higuita', 'Hines', 'Kaka', 'Larin',\n",
       "       'Laryea', 'Nocerino', 'Ramos', 'Redding', 'Rivas', 'Rocha', 'Sane',\n",
       "       'Saunders', 'Spector', 'Stajduhar', 'Sutter', 'Toia', 'Alberg',\n",
       "       'Ayuk', 'Bedoya', 'Blake', 'Carroll', 'Creavalle', 'Davies', 'Edu',\n",
       "       'Elliott', 'Epps', 'Fabinho', 'Gaddis', 'Herbers', 'Ilsinho',\n",
       "       'Marquez', 'McCarthy', 'McGuire', 'Medunjanin', 'Najem', 'Onyewu',\n",
       "       'Picault', 'Pontius', 'Rosenberry', 'Sapong', 'Simpson',\n",
       "       'Tribbett', 'Trusty', 'Wijnaldum', 'Yaro', 'Adi',\n",
       "       'Andriuskevicius', 'Arboleda', 'Arokoyo', 'Asprilla', 'Attinella',\n",
       "       'Barmby', 'Blanco', 'Chara', 'Clarke', 'Ebobisse', 'Farfan',\n",
       "       'Gleeson', 'Guzman', 'Mattocks', 'McIntosh', 'Melano', 'Myers',\n",
       "       'Nagbe', 'Okugo', 'Olum', 'Powell', 'Ridgewell', 'Valentin',\n",
       "       'Valeri', 'Zemanski', 'Barrett', 'Beckerman', 'Beltran', 'Dunk',\n",
       "       'Glad', 'Hernandez', 'Holness', 'Horst', 'Lennon', 'Maund',\n",
       "       'Movsisyan', 'Mulholland', 'Phillips', 'Plata', 'Rimando',\n",
       "       'Rusnak', 'Saucedo', 'Schmidt', 'Schuler', 'Silva', 'Sunday',\n",
       "       'Van Oekel', 'Velazco', 'Wingert', 'Adekoya', 'Alfaro', 'Alonso',\n",
       "       'Bruin', 'Delem', 'Dempsey', 'Evans', 'Frei', 'Kovar', 'Lodeiro',\n",
       "       'Mansaray', 'Marshall', 'Mathers', 'Meredith', 'Morris', 'Roldan',\n",
       "       'Shipp', 'Svensson', 'Tolo', 'Wingo', 'Alashe', 'Amarikwa',\n",
       "       'Barrera', 'Bernardez', 'Bersano', 'Bingham', 'Cato', 'Ceren',\n",
       "       'Colvey', 'Cummings', 'Dawkins', 'Godoy', 'Hoesen', 'Hyka',\n",
       "       'Imperiale', 'Jungwirth', 'Lima', 'Mfeka', 'Pelosi', 'Salinas',\n",
       "       'Sarkodie', 'Tarbell', 'Thompson', 'Urena', 'Wondolowski', 'Wynne',\n",
       "       'Yueill', 'Alseth', 'Altidore', 'Aubrey', 'Beitashour', 'Bono',\n",
       "       'Bradley', 'Chapman', 'Cheyrou', 'Cooper', 'Delgado', 'Endoh',\n",
       "       'Giovinco', 'Hagglund', 'Irwin', 'Mavinga', 'Moor', 'Morgan',\n",
       "       'Morrow', 'Osorio', 'Pais', 'Ricketts', 'Zavaleta', 'Adekugbe',\n",
       "       'Bolanos', 'Bustos', 'de Jong', 'Dean', 'Edgar', 'Flores',\n",
       "       'Froese', 'Greig', 'Harvey', 'Hurtado', 'Jacobson', 'Laba',\n",
       "       'Levis', 'McKendry', 'Mezquida', 'Montero', 'Nerwinski', 'Ousted',\n",
       "       'Parker', 'Reyna', 'Richey', 'Rosales', 'Seiler', 'Shea', 'Tchani',\n",
       "       'Techera', 'Teibert', 'Tornaghi', 'Waston', 'Babouli', 'Ramajo'],\n",
       "      dtype=object)"
      ]
     },
     "execution_count": 156,
     "metadata": {},
     "output_type": "execute_result"
    }
   ],
   "source": [
    "(df.last_name).unique()"
   ]
  },
  {
   "cell_type": "markdown",
   "metadata": {},
   "source": [
    "<h5 style=\"color:red; text-align:left; font-family:forte\">&nbsp;&nbsp;&nbsp;&nbsp;&nbsp;&nbsp; First Name Series</h5>"
   ]
  },
  {
   "cell_type": "code",
   "execution_count": 157,
   "metadata": {},
   "outputs": [
    {
     "data": {
      "text/plain": [
       "array(['Miguel', 'Mikey', 'Yamil', 'Mark', 'Andrew', 'Carlos', 'Greg',\n",
       "       'Leandro', 'Chris', 'Julian', 'Harrison', 'Kenwyne', 'Alec',\n",
       "       'Kevin', 'Jeff', 'Zach', 'Josef', 'Tyrone', 'Jeffrey', 'Michael',\n",
       "       'Jacob', 'Kyle', 'Miles', 'Bryan', 'Alexander', 'Brandon',\n",
       "       'Hector', 'Anton', 'Romario', 'David', 'Arturo', 'Brandt', 'Joey',\n",
       "       'Jonathan', 'Stefan', 'Drew', 'Matej', 'Patrick', 'Collin', 'John',\n",
       "       'Daniel', nan, 'Johan', 'Matt', 'Dax', 'Joao', 'Djordje',\n",
       "       'Nemanja', 'Jorge', 'Bastian', 'Luis', 'Mohammed',\n",
       "       'Alhassan \"Lalas\"', 'Alex', 'Artur', 'Dilly', 'Ethan', 'Waylon',\n",
       "       'Nikolaj', 'Federico', 'Marshall', 'Adam', 'Ola', 'Logan',\n",
       "       'Connor', 'Kekuta', 'Cristian', 'Justin', 'Nicolai', 'Abuchi',\n",
       "       'Jukka', 'Rodrigo', 'Gaston', 'Zack', 'Brad', 'Ben', 'Wil', 'Josh',\n",
       "       'Bismark', 'Dominique', 'Bobby', 'Caleb', 'Dennis', 'Mike',\n",
       "       'Kortne', 'Shkelzen', 'Joshua', 'Alan', 'Marlon', 'Sam', 'Tim',\n",
       "       'Zac', 'Eric', 'Ricardo', 'Dillon', 'Juan Edgardo', 'Axel',\n",
       "       'Jared', 'Mekeil', 'Kellyn', 'Tesho', 'Reggie', 'Anibal', 'Coy',\n",
       "       'Mauro', 'Jesus', 'Maynor', 'Jesse', 'Hernan', 'Aaron', 'Atiba',\n",
       "       'Jacori', 'Ryan', 'Walker', 'Roland', 'Javier', 'Paxton',\n",
       "       'Adonijah', 'Victor', 'Maximiliano', 'Luciano', 'Steven', 'Nick',\n",
       "       'Sean', 'Bill', 'Ian', 'Alhaji', 'Taylor', 'Sebastien', 'Lamar',\n",
       "       'Kofi', 'Jose Guillermo', 'Jalen', 'Lloyd', 'Marcelo', 'Maxim',\n",
       "       'Rob', 'Travis', 'Jalil', 'DaMarcus', 'Calle', 'Juan David',\n",
       "       'Leonardo', 'AJ', 'Tyler', 'Alberth', 'Jose', 'Boniek', 'Joseph',\n",
       "       'Agustin', 'Christian', 'Adolfo', 'George', 'Romell', 'Dylan',\n",
       "       'Memo', 'Vicente', 'Erick', 'Joe', 'Saad', 'Latif', 'Dom', 'Roger',\n",
       "       'Benny', 'Gerso', 'Cameron', 'Igor', 'Jimmy', 'Soni', 'Ike',\n",
       "       'Erik', 'Diego', 'Soony', 'Ilie', 'Seth', 'Colton', 'Adrian',\n",
       "       'Graham', 'Romain', 'Hugo', 'Emmanuel', 'Ashley', 'Bradley',\n",
       "       'Clement', 'Giovani', 'Rafael', 'Baggio', 'Bradford', 'Jermaine',\n",
       "       'Ariel', 'Sebastian', 'Jack', 'Raul', 'Robbie', 'Brian', 'Nathan',\n",
       "       'Jelle', 'Jaime', 'Gyasi', 'Monday Bassey', 'Bernardo', 'Marc',\n",
       "       'Francisco', 'Abu', 'Thomas', 'Vadim', 'Billy', 'Ismaila',\n",
       "       'Bashkim', 'Brent', 'Rasmus', 'Jerome', 'Collen', 'Louis',\n",
       "       'Patrice', 'Ambroise', 'Evan', 'Hassoun', 'Laurent', 'Maxime',\n",
       "       'Marco', 'Anthony', 'Wandrille', 'Calum', 'Matteo', 'Dominic',\n",
       "       'Ignacio', 'Andres', 'Shamit', 'Ballou Jean-Yves', 'Juan',\n",
       "       'Benjamin', 'Teal', 'Scott', 'Cody', 'Zachary', 'Femi', 'Kei',\n",
       "       'Daigo', 'Xavier', 'Antonio', 'Lee', 'Kelyn', 'Donnie',\n",
       "       'Je-Vaughn', 'London', 'RJ', 'Kwame', 'Frederic', 'Mix', 'Shannon',\n",
       "       'Yangel', 'Eirik', 'Ronald', 'Jefferson', 'Andrea', 'Andre',\n",
       "       'Khiry', 'Rodney', 'Anatole', 'Gideon', 'Arun', 'Aurelien',\n",
       "       'Derrick', 'Fredrik', 'Sacha', 'Kemar', 'Zeiko', 'Felipe', 'Dan',\n",
       "       'Hassan', 'Damien', 'Gonzalo', 'Sal', 'Giles', 'Hadji', 'Servando',\n",
       "       'Pierre', 'Conor', 'Earl', 'Devron', 'Will', 'Cyle', 'Richmond',\n",
       "       'Matias', 'Tommy', 'Tony', 'Moussa', 'Mason', 'Donny', 'Alejandro',\n",
       "       'Warren', 'Charlie', 'Maurice', 'Marcus', 'Fabinho', 'Raymon',\n",
       "       'Fabian', 'Richard', 'Jake', 'Haris', 'Oguchi', 'Fabrice',\n",
       "       'Keegan', 'CJ', 'Jay', 'Ken', 'Auston', 'Giliano', 'Fanendo',\n",
       "       'Vytautas', 'Gbenga', 'Dairon', 'Rennico', 'Jeremy', 'Darren',\n",
       "       'Kendall', 'Lucas', 'Roy', 'Chance', 'Darlington', 'Amobi',\n",
       "       'Lawrence', 'Alvas', 'Liam', 'Zarek', 'Danilo', 'Jordan', 'Chad',\n",
       "       'Reagan', 'Eduardo', 'Justen', 'Omar', 'Brooks', 'Yura', 'Luke',\n",
       "       'Demar', 'Albert', 'Stephen', 'Seyi', 'Osvaldo', 'Jordy', 'Clint',\n",
       "       'Alvaro', 'Oniel', 'Joevin', 'Nicolas', 'Gustav', 'Nouhou',\n",
       "       'Roman', 'Henry', 'Fatai', 'Quincy', 'Cordell', 'Darwin', 'Kip',\n",
       "       'Harold', 'Simon', 'Shaun', 'Danny', 'Jahmir', 'Florian', 'Lindo',\n",
       "       'Shea', 'Matheus', 'Marvell', 'Jackson', 'Oyvind', 'Jozy',\n",
       "       'Sergio', 'Benoit', 'Armando', 'Raheem', 'Tsubasa', 'Jason',\n",
       "       'Ashtone', 'Tosaint', 'Eriq', 'Samuel', 'Alphonso', 'Marcel',\n",
       "       'Deybi', 'Kianz', 'Brett', 'Fredy', 'Yordy', 'Spencer', 'Cole',\n",
       "       'Brek', 'Russell', 'Paolo', 'Sheanon', 'Mo', 'David Mateos'],\n",
       "      dtype=object)"
      ]
     },
     "execution_count": 157,
     "metadata": {},
     "output_type": "execute_result"
    }
   ],
   "source": [
    "(df.first_name).unique()"
   ]
  },
  {
   "cell_type": "markdown",
   "metadata": {},
   "source": [
    "<h5 style=\"color:red; text-align:left; font-family:forte\">&nbsp;&nbsp;&nbsp;&nbsp;&nbsp;&nbsp; Position Series</h5>"
   ]
  },
  {
   "cell_type": "code",
   "execution_count": 158,
   "metadata": {},
   "outputs": [
    {
     "data": {
      "text/plain": [
       "array(['M', 'D', 'F', 'GK', 'M-F', 'F-M', 'D-M', 'M-D', 'M/F', 'F/M'],\n",
       "      dtype=object)"
      ]
     },
     "execution_count": 158,
     "metadata": {},
     "output_type": "execute_result"
    }
   ],
   "source": [
    "(df.position).unique()"
   ]
  },
  {
   "cell_type": "markdown",
   "metadata": {},
   "source": [
    "<h5 style=\"color:blue; text-align:left; font-family:forte\"> Section 6: Histograms</h5>"
   ]
  },
  {
   "cell_type": "code",
   "execution_count": 159,
   "metadata": {},
   "outputs": [
    {
     "data": {
      "text/plain": [
       "array([[<Axes: title={'center': 'base_salary'}>,\n",
       "        <Axes: title={'center': 'guaranteed_compensation'}>]],\n",
       "      dtype=object)"
      ]
     },
     "execution_count": 159,
     "metadata": {},
     "output_type": "execute_result"
    },
    {
     "data": {
      "image/png": "[encoded data removed]",
      "text/plain": [
       "<Figure size 640x480 with 2 Axes>"
      ]
     },
     "metadata": {},
     "output_type": "display_data"
    }
   ],
   "source": [
    "df.hist()"
   ]
  },
  {
   "cell_type": "markdown",
   "metadata": {},
   "source": [
    "<h5 style=\"color:blue; text-align:left; font-family:forte\"> Section 7: List</h5>"
   ]
  },
  {
   "cell_type": "code",
   "execution_count": 160,
   "metadata": {},
   "outputs": [
    {
     "name": "stdout",
     "output_type": "stream",
     "text": [
      "[100500.0, 100800.0, 100910.25, 101508.0, 101666.75, 102083.33, 104100.0, 104499.92, 104999.96, 105000.0, 105000.0, 105000.0, 105000.0, 105008.0, 105083.33, 105416.67, 106312.5, 106573.89, 107500.0, 107500.0, 108249.96, 108500.0, 109000.0, 109633.0, 109875.0, 110000.0, 110000.0, 110004.0, 110004.0, 110004.0, 110312.5, 110450.0, 110550.0, 112062.6, 112500.0, 114425.0, 114684.94, 114900.0, 114996.0, 115000.0, 115000.0, 115000.0, 115004.0, 115008.0, 115166.67, 115500.04, 116625.0, 117500.0, 117500.0, 118125.0, 120000.0, 120000.0, 120000.0, 120000.0, 120000.0, 120008.0, 123000.0, 123237.5, 123333.33, 123350.0, 123557.04, 123700.0, 125000.0, 125004.0, 126000.0, 127500.0, 128000.0, 128500.08, 128666.63, 129996.0, 130008.0, 131250.0, 131250.0, 132500.0, 132500.0, 132666.67, 133450.0, 133500.0, 135000.0, 135000.0, 135000.0, 135004.0, 135500.0, 136750.0, 137000.0, 137621.0, 138000.0, 138000.0, 138666.67, 139430.0, 140000.0, 140000.0, 140000.0, 140004.0, 141000.0, 142500.0, 143000.0, 144000.0, 144125.0, 144999.96, 145394.0, 147670.67, 148333.33, 148337.33, 150000.0, 150000.0, 150000.0, 150000.0, 150000.0, 150000.0, 150000.0, 150000.0, 152500.0, 153000.0, 155000.0, 155004.0, 155600.0, 155666.67, 157500.0, 159000.0, 161670.67, 162837.33, 164250.0, 165000.0, 165000.0, 165300.0, 165500.0, 167500.0, 167500.0, 167759.0, 168375.0, 170000.0, 170000.0, 170000.04, 171250.0, 171875.0, 172500.0, 173000.0, 174083.4, 174437.5, 175000.0, 175000.0, 175000.0, 175008.0, 175008.0, 175992.0, 176000.04, 178000.0, 178850.0, 180000.0, 180000.0, 180000.0, 180000.0, 183756.0, 183833.33, 184000.0, 185000.0, 185000.0, 185000.04, 186500.0, 187941.5, 188250.0, 188337.33, 192000.0, 193166.67, 193508.0, 194000.0, 194000.0, 195000.04, 197750.0, 200000.0, 200000.0, 200237.13, 202000.0, 202333.33, 202833.33, 203750.0, 205000.0, 205600.0, 208670.67, 210000.0, 210000.0, 210166.67, 210337.4, 211316.7, 212504.0, 215746.08, 216000.0, 216504.0, 218875.0, 220000.08, 220008.0, 225004.0, 225500.04, 226666.67, 227500.0, 230000.0, 230004.0, 230950.0, 233333.33, 233500.0, 237500.0, 240000.0, 242500.0, 242666.67, 244375.0, 246700.0, 247500.0, 247748.0, 249375.0, 250000.0, 250750.0, 251875.0, 252500.0, 253000.0, 253500.0, 255000.0, 255000.0, 256242.0, 256250.0, 257058.0, 260000.0, 260000.0, 260000.0, 260004.0, 261400.0, 261750.0, 263600.0, 264000.0, 266600.0, 267000.0, 267133.34, 270166.67, 279500.0, 280000.0, 283756.0, 285008.0, 288000.0, 288100.0, 289420.67, 290000.0, 290000.0, 290976.67, 292500.0, 294000.0, 296666.67, 300000.0, 300000.0, 300662.67, 300691.6, 305000.0, 305000.0, 306250.0, 308333.33, 315000.0, 315500.0, 316666.67, 319666.67, 322326.0, 325000.0, 325000.0, 325008.0, 326666.67, 328312.42, 328750.0, 330000.0, 330843.63, 333000.08, 338501.25, 341246.0, 343333.33, 350000.0, 351008.0, 360000.0, 366250.0, 368125.0, 372660.0, 375000.0, 376666.75, 377000.0, 377625.0, 378933.33, 383000.0, 385000.0, 386658.67, 392504.4, 394250.0, 395500.0, 400000.04, 400008.0, 402504.0, 413333.33, 423000.0, 424996.0, 425000.0, 431000.0, 450000.0, 450000.0, 450000.0, 450000.0, 453333.33, 470000.0, 482500.0, 499996.0, 500000.0, 500000.0, 500000.0, 502500.0, 503129.0, 505008.0, 508333.33, 508812.5, 516667.07, 518333.33, 520004.0, 522000.0, 533700.04, 555008.0, 564212.5, 565000.0, 568000.0, 570000.0, 577500.0, 591258.0, 600000.0, 601312.5, 602000.0, 611933.5, 615000.0, 654333.33, 661666.67, 662500.0, 665000.0, 668750.0, 670000.0, 700000.0, 716674.67, 719541.75, 722500.2, 725000.0, 731500.0, 757102.27, 758250.0, 770750.0, 772669.0, 773500.0, 781250.0, 787500.0, 800000.0, 800000.0, 800000.0, 818750.0, 820937.5, 825000.0, 844000.0, 850000.0, 850000.0, 880890.0, 882812.5, 885500.0, 890541.75, 1010000.0, 1041310.0, 1045000.0, 1050000.0, 1075008.0, 1141667.0, 1197250.0, 1635000.0, 1668750.0, 1736254.0, 1743428.57, 1800000.04, 1906333.37, 1973750.0, 1999400.64, 2000000.04, 2297000.0, 2475000.0, 2607500.0, 3892933.5, 4875000.0, 5400000.0, 5500000.0, 5610000.0, 5915690.0, 6500000.0, 7115555.67, 7167500.0]\n"
     ]
    }
   ],
   "source": [
    "high_salary =  [salary for salary in df['guaranteed_compensation'].tolist() if salary > 100000]\n",
    "\n",
    "high_salary.sort()\n",
    "\n",
    "print(high_salary)"
   ]
  },
  {
   "cell_type": "markdown",
   "metadata": {},
   "source": [
    "<h5 style=\"color:blue; text-align:left; font-family:forte\"> Section 8: Filters</h5>"
   ]
  },
  {
   "cell_type": "code",
   "execution_count": 161,
   "metadata": {},
   "outputs": [
    {
     "data": {
      "text/html": [
       "<div>\n",
       "<style scoped>\n",
       "    .dataframe tbody tr th:only-of-type {\n",
       "        vertical-align: middle;\n",
       "    }\n",
       "\n",
       "    .dataframe tbody tr th {\n",
       "        vertical-align: top;\n",
       "    }\n",
       "\n",
       "    .dataframe thead th {\n",
       "        text-align: right;\n",
       "    }\n",
       "</style>\n",
       "<table border=\"1\" class=\"dataframe\">\n",
       "  <thead>\n",
       "    <tr style=\"text-align: right;\">\n",
       "      <th></th>\n",
       "      <th>club</th>\n",
       "      <th>position</th>\n",
       "      <th>base_salary</th>\n",
       "    </tr>\n",
       "  </thead>\n",
       "  <tbody>\n",
       "    <tr>\n",
       "      <th>0</th>\n",
       "      <td>ATL</td>\n",
       "      <td>M</td>\n",
       "      <td>1912500.0</td>\n",
       "    </tr>\n",
       "    <tr>\n",
       "      <th>1</th>\n",
       "      <td>ATL</td>\n",
       "      <td>D</td>\n",
       "      <td>65625.0</td>\n",
       "    </tr>\n",
       "    <tr>\n",
       "      <th>2</th>\n",
       "      <td>ATL</td>\n",
       "      <td>M</td>\n",
       "      <td>150000.0</td>\n",
       "    </tr>\n",
       "    <tr>\n",
       "      <th>3</th>\n",
       "      <td>ATL</td>\n",
       "      <td>D</td>\n",
       "      <td>99225.0</td>\n",
       "    </tr>\n",
       "    <tr>\n",
       "      <th>4</th>\n",
       "      <td>ATL</td>\n",
       "      <td>F</td>\n",
       "      <td>65000.0</td>\n",
       "    </tr>\n",
       "    <tr>\n",
       "      <th>...</th>\n",
       "      <td>...</td>\n",
       "      <td>...</td>\n",
       "      <td>...</td>\n",
       "    </tr>\n",
       "    <tr>\n",
       "      <th>611</th>\n",
       "      <td>VAN</td>\n",
       "      <td>GK</td>\n",
       "      <td>80000.0</td>\n",
       "    </tr>\n",
       "    <tr>\n",
       "      <th>612</th>\n",
       "      <td>VAN</td>\n",
       "      <td>D</td>\n",
       "      <td>350000.0</td>\n",
       "    </tr>\n",
       "    <tr>\n",
       "      <th>613</th>\n",
       "      <td>VAN</td>\n",
       "      <td>D</td>\n",
       "      <td>175000.0</td>\n",
       "    </tr>\n",
       "    <tr>\n",
       "      <th>614</th>\n",
       "      <td>NaN</td>\n",
       "      <td>F</td>\n",
       "      <td>54075.0</td>\n",
       "    </tr>\n",
       "    <tr>\n",
       "      <th>615</th>\n",
       "      <td>NaN</td>\n",
       "      <td>D</td>\n",
       "      <td>420000.0</td>\n",
       "    </tr>\n",
       "  </tbody>\n",
       "</table>\n",
       "<p>616 rows × 3 columns</p>\n",
       "</div>"
      ],
      "text/plain": [
       "    club position  base_salary\n",
       "0    ATL        M    1912500.0\n",
       "1    ATL        D      65625.0\n",
       "2    ATL        M     150000.0\n",
       "3    ATL        D      99225.0\n",
       "4    ATL        F      65000.0\n",
       "..   ...      ...          ...\n",
       "611  VAN       GK      80000.0\n",
       "612  VAN        D     350000.0\n",
       "613  VAN        D     175000.0\n",
       "614  NaN        F      54075.0\n",
       "615  NaN        D     420000.0\n",
       "\n",
       "[616 rows x 3 columns]"
      ]
     },
     "execution_count": 161,
     "metadata": {},
     "output_type": "execute_result"
    }
   ],
   "source": [
    "df.filter([\"club\",\"position\",\"base_salary\"])"
   ]
  },
  {
   "cell_type": "markdown",
   "metadata": {},
   "source": [
    "<h5 style=\"color:blue; text-align:left; font-family:forte\"> Section 9: Map</h5>"
   ]
  },
  {
   "cell_type": "code",
   "execution_count": 184,
   "metadata": {},
   "outputs": [
    {
     "data": {
      "text/html": [
       "<div>\n",
       "<style scoped>\n",
       "    .dataframe tbody tr th:only-of-type {\n",
       "        vertical-align: middle;\n",
       "    }\n",
       "\n",
       "    .dataframe tbody tr th {\n",
       "        vertical-align: top;\n",
       "    }\n",
       "\n",
       "    .dataframe thead th {\n",
       "        text-align: right;\n",
       "    }\n",
       "</style>\n",
       "<table border=\"1\" class=\"dataframe\">\n",
       "  <thead>\n",
       "    <tr style=\"text-align: right;\">\n",
       "      <th></th>\n",
       "      <th>club</th>\n",
       "      <th>last_name</th>\n",
       "      <th>first_name</th>\n",
       "      <th>position</th>\n",
       "      <th>base_salary</th>\n",
       "      <th>guaranteed_compensation</th>\n",
       "      <th>salary_category</th>\n",
       "    </tr>\n",
       "  </thead>\n",
       "  <tbody>\n",
       "    <tr>\n",
       "      <th>0</th>\n",
       "      <td>ATL</td>\n",
       "      <td>Almiron</td>\n",
       "      <td>Miguel</td>\n",
       "      <td>M</td>\n",
       "      <td>1912500.0</td>\n",
       "      <td>2297000.00</td>\n",
       "      <td>High</td>\n",
       "    </tr>\n",
       "    <tr>\n",
       "      <th>1</th>\n",
       "      <td>ATL</td>\n",
       "      <td>Ambrose</td>\n",
       "      <td>Mikey</td>\n",
       "      <td>D</td>\n",
       "      <td>65625.0</td>\n",
       "      <td>65625.00</td>\n",
       "      <td>Low</td>\n",
       "    </tr>\n",
       "    <tr>\n",
       "      <th>2</th>\n",
       "      <td>ATL</td>\n",
       "      <td>Asad</td>\n",
       "      <td>Yamil</td>\n",
       "      <td>M</td>\n",
       "      <td>150000.0</td>\n",
       "      <td>150000.00</td>\n",
       "      <td>High</td>\n",
       "    </tr>\n",
       "    <tr>\n",
       "      <th>3</th>\n",
       "      <td>ATL</td>\n",
       "      <td>Bloom</td>\n",
       "      <td>Mark</td>\n",
       "      <td>D</td>\n",
       "      <td>99225.0</td>\n",
       "      <td>106573.89</td>\n",
       "      <td>Mid</td>\n",
       "    </tr>\n",
       "    <tr>\n",
       "      <th>4</th>\n",
       "      <td>ATL</td>\n",
       "      <td>Carleton</td>\n",
       "      <td>Andrew</td>\n",
       "      <td>F</td>\n",
       "      <td>65000.0</td>\n",
       "      <td>77400.00</td>\n",
       "      <td>Low</td>\n",
       "    </tr>\n",
       "  </tbody>\n",
       "</table>\n",
       "</div>"
      ],
      "text/plain": [
       "  club last_name first_name position  base_salary  guaranteed_compensation  \\\n",
       "0  ATL   Almiron     Miguel        M    1912500.0               2297000.00   \n",
       "1  ATL   Ambrose      Mikey        D      65625.0                 65625.00   \n",
       "2  ATL      Asad      Yamil        M     150000.0                150000.00   \n",
       "3  ATL     Bloom       Mark        D      99225.0                106573.89   \n",
       "4  ATL  Carleton     Andrew        F      65000.0                 77400.00   \n",
       "\n",
       "  salary_category  \n",
       "0            High  \n",
       "1             Low  \n",
       "2            High  \n",
       "3             Mid  \n",
       "4             Low  "
      ]
     },
     "execution_count": 184,
     "metadata": {},
     "output_type": "execute_result"
    }
   ],
   "source": [
    "def salary_category(base_salary):\n",
    "    if base_salary < 70000 :\n",
    "        return 'Low'\n",
    "    elif 70000 <= base_salary < 100000:\n",
    "        return 'Mid'\n",
    "    else:\n",
    "        return 'High'\n",
    "    \n",
    "df['salary_category'] = df['base_salary'].map(salary_category)\n",
    "\n",
    "df.head(5)\n",
    "\n",
    "    "
   ]
  },
  {
   "cell_type": "code",
   "execution_count": 199,
   "metadata": {},
   "outputs": [
    {
     "data": {
      "text/plain": [
       "<Axes: xlabel='position', ylabel='base_salary'>"
      ]
     },
     "execution_count": 199,
     "metadata": {},
     "output_type": "execute_result"
    },
    {
     "data": {
      "image/png": "[encoded data removed]",
      "text/plain": [
       "<Figure size 2000x500 with 1 Axes>"
      ]
     },
     "metadata": {},
     "output_type": "display_data"
    }
   ],
   "source": [
    "import matplotlib.pyplot as plt\n",
    "import seaborn\n",
    "\n",
    "\n",
    "df.plot.scatter(x='position',y='base_salary', legend = \"full\",  figsize=(20,5))\n",
    "    \n",
    "\n"
   ]
  }
 ],
 "metadata": {
  "kernelspec": {
   "display_name": ".venv",
   "language": "python",
   "name": "python3"
  },
  "language_info": {
   "codemirror_mode": {
    "name": "ipython",
    "version": 3
   },
   "file_extension": ".py",
   "mimetype": "text/x-python",
   "name": "python",
   "nbconvert_exporter": "python",
   "pygments_lexer": "ipython3",
   "version": "3.11.4"
  },
  "orig_nbformat": 4
 },
 "nbformat": 4,
 "nbformat_minor": 2
}
